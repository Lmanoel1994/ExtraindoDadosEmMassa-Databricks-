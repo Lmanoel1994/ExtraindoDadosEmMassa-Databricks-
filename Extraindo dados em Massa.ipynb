{
 "cells": [
  {
   "cell_type": "markdown",
   "metadata": {},
   "source": [
    "# Conexão com o Banco"
   ]
  },
  {
   "cell_type": "code",
   "execution_count": null,
   "metadata": {},
   "outputs": [],
   "source": [
    "def banco (tb):\n",
    "    database = \"Estudos\"\n",
    "    table = tb\n",
    "    user = \"lmanoel\"\n",
    "    password  = \"01625!@\"\n",
    "\n",
    "    df = spark.read\\.format(\"jdbc\") \\\n",
    "    .option(\"url\", f\"jdbc:sqlserver://CVRT-N445:1433;databaseName={database};\") \\\n",
    "    .option(\"dbtable\", table) \\\n",
    "    .option(\"user\", user) \\\n",
    "    .option(\"password\", password) \\\n",
    "    .option(\"driver\", \"com.microsoft.sqlserver.jdbc.SQLServerDriver\") \\\n",
    "    .load()\n",
    "    return df\n"
   ]
  },
  {
   "cell_type": "markdown",
   "metadata": {},
   "source": [
    "# Lista com os nomes das Tabelas"
   ]
  },
  {
   "cell_type": "code",
   "execution_count": 65,
   "metadata": {},
   "outputs": [
    {
     "data": {
      "text/plain": [
       "['Games', 'JogosPs2', 'JogosWii', 'JogosXbox', 'JogosSNES', 'JogosPS4']"
      ]
     },
     "execution_count": 65,
     "metadata": {},
     "output_type": "execute_result"
    }
   ],
   "source": [
    "df = banco('sys.table')\n",
    "listaTBS = df.rdd.map(lambda x: x.name).collect()\n",
    "listaTBS"
   ]
  },
  {
   "cell_type": "markdown",
   "metadata": {},
   "source": [
    "# Lista de Dataframes"
   ]
  },
  {
   "cell_type": "code",
   "execution_count": 70,
   "metadata": {},
   "outputs": [
    {
     "name": "stdout",
     "output_type": "stream",
     "text": [
      "Tabela: Games\n",
      "Tabela: JogosPs2\n",
      "Tabela: JogosWii\n",
      "Tabela: JogosXbox\n",
      "Tabela: JogosSNES\n",
      "Tabela: JogosPS4\n"
     ]
    }
   ],
   "source": [
    "listaDF = []\n",
    "for i in listaTBS:\n",
    "    listaDF.append(banco(i))\n",
    "    print('Tabela:',i)\n",
    "    \n",
    "    "
   ]
  },
  {
   "cell_type": "markdown",
   "metadata": {},
   "source": [
    "# Salvando os DataFrames"
   ]
  },
  {
   "cell_type": "code",
   "execution_count": 74,
   "metadata": {},
   "outputs": [
    {
     "name": "stdout",
     "output_type": "stream",
     "text": [
      "Salvando Tabela: Games\n",
      "Salvando Tabela: JogosPs2\n",
      "Salvando Tabela: JogosWii\n",
      "Salvando Tabela: JogosXbox\n",
      "Salvando Tabela: JogosSNES\n",
      "Salvando Tabela: JogosPS4\n"
     ]
    }
   ],
   "source": [
    "count = 0\n",
    "for i in listaDF:\n",
    "    print('Salvando Tabela: {}'.format(listaTBS[count]))\n",
    "    i.repartition(1).write.format(\"parquet\").option(\"header\", \"true\").save(\"adl://DataLake/Tabelas/{}\".format(NomesTB[count]))\n",
    "    file = dbutils.fs.ls('adl://DataLake/Tabelas/{}/'.format(listaTBS[count]))[-1].path\n",
    "    dbutils.fs.mv(file,\"adl://DataLake/Tabelas/\")\n",
    "    file = file=dbutils.fs.ls('adl://DataLake/Tabelas/')[-1].path \n",
    "    dbutils.fs.mv(file, 'adl://DataLake/Tabelas/{}.parquet'.format(listaTBS[count])) \n",
    "    dbutils.fs.rm('adl://DataLake/Tabelas/{}/'.format(listaTBS[count]), recurse=True) \n",
    "    count = count +1"
   ]
  },
  {
   "cell_type": "code",
   "execution_count": null,
   "metadata": {},
   "outputs": [],
   "source": []
  }
 ],
 "metadata": {
  "kernelspec": {
   "display_name": "Python 3",
   "language": "python",
   "name": "python3"
  },
  "language_info": {
   "codemirror_mode": {
    "name": "ipython",
    "version": 3
   },
   "file_extension": ".py",
   "mimetype": "text/x-python",
   "name": "python",
   "nbconvert_exporter": "python",
   "pygments_lexer": "ipython3",
   "version": "3.8.3"
  }
 },
 "nbformat": 4,
 "nbformat_minor": 4
}
